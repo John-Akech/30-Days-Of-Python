{
 "cells": [
  {
   "cell_type": "markdown",
   "id": "3a70723a-92d5-4f7f-a280-87d838a60315",
   "metadata": {},
   "source": [
    "## Install numpy"
   ]
  },
  {
   "cell_type": "code",
   "execution_count": null,
   "id": "da413f77-8a8a-45b3-a2d2-94bf5a44584a",
   "metadata": {},
   "outputs": [],
   "source": [
    "pip install numpy"
   ]
  },
  {
   "cell_type": "markdown",
   "id": "1f089766-963b-4c97-9bb7-837b410e9f1c",
   "metadata": {},
   "source": [
    "## Importing NumPy"
   ]
  }
 ],
 "metadata": {
  "kernelspec": {
   "display_name": "Python [conda env:venv]",
   "language": "python",
   "name": "conda-env-venv-py"
  },
  "language_info": {
   "codemirror_mode": {
    "name": "ipython",
    "version": 3
   },
   "file_extension": ".py",
   "mimetype": "text/x-python",
   "name": "python",
   "nbconvert_exporter": "python",
   "pygments_lexer": "ipython3",
   "version": "3.12.0"
  }
 },
 "nbformat": 4,
 "nbformat_minor": 5
}
