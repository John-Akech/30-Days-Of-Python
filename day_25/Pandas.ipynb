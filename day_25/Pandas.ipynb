{
 "cells": [
  {
   "cell_type": "markdown",
   "id": "93581641-8927-4651-92ac-95c9f6f5b005",
   "metadata": {},
   "source": [
    "# Import the modules"
   ]
  },
  {
   "cell_type": "code",
   "execution_count": 166,
   "id": "b601a77a-b0e7-43b9-b1ca-165c80141054",
   "metadata": {},
   "outputs": [],
   "source": [
    "import pandas as pd\n",
    "import numpy as np"
   ]
  },
  {
   "cell_type": "markdown",
   "id": "6565cdc0-2fdb-49c2-bcd5-7e113365f9c1",
   "metadata": {},
   "source": [
    "# Read the hacker_news.csv file "
   ]
  },
  {
   "cell_type": "code",
   "execution_count": 168,
   "id": "28df6b95-e310-4859-b80b-118179245bd0",
   "metadata": {},
   "outputs": [],
   "source": [
    "data = pd.read_csv('hacker_news.csv')"
   ]
  },
  {
   "cell_type": "code",
   "execution_count": 170,
   "id": "d2f584a3-2d02-4281-b4bd-5a296b954c1a",
   "metadata": {},
   "outputs": [],
   "source": [
    "df = pd.DataFrame(data)"
   ]
  },
  {
   "cell_type": "code",
   "execution_count": 172,
   "id": "f98e6e13-8017-4d4e-b16d-7e6be3f70da9",
   "metadata": {},
   "outputs": [
    {
     "name": "stdout",
     "output_type": "stream",
     "text": [
      "             id                                              title  \\\n",
      "0      12224879                          Interactive Dynamic Video   \n",
      "1      11964716  Florida DJs May Face Felony for April Fools' W...   \n",
      "2      11919867       Technology ventures: From Idea to Enterprise   \n",
      "3      10301696  Note by Note: The Making of Steinway L1037 (2007)   \n",
      "4      10482257  Title II kills investment? Comcast and other I...   \n",
      "...         ...                                                ...   \n",
      "20094  12379592  How Purism Avoids Intels Active Management Tec...   \n",
      "20095  10339284          YC Application Translated and Broken Down   \n",
      "20096  10824382  Microkernels are slow and Elvis didn't do no d...   \n",
      "20097  10739875                      How Product Hunt really works   \n",
      "20098  11680777  RoboBrowser: Your friendly neighborhood web sc...   \n",
      "\n",
      "                                                     url  num_points  \\\n",
      "0                http://www.interactivedynamicvideo.com/         386   \n",
      "1      http://www.thewire.com/entertainment/2013/04/f...           2   \n",
      "2      https://www.amazon.com/Technology-Ventures-Ent...           3   \n",
      "3      http://www.nytimes.com/2007/11/07/movies/07ste...           8   \n",
      "4      http://arstechnica.com/business/2015/10/comcas...          53   \n",
      "...                                                  ...         ...   \n",
      "20094  https://puri.sm/philosophy/how-purism-avoids-i...          10   \n",
      "20095  https://medium.com/@zreitano/the-yc-applicatio...           4   \n",
      "20096  http://blog.darknedgy.net/technology/2016/01/0...         169   \n",
      "20097  https://medium.com/@benjiwheeler/how-product-h...         695   \n",
      "20098              https://github.com/jmcarp/robobrowser         182   \n",
      "\n",
      "       num_comments         author        created_at  \n",
      "0                52       ne0phyte    8/4/2016 11:52  \n",
      "1                 1       vezycash   6/23/2016 22:20  \n",
      "2                 1        hswarna    6/17/2016 0:01  \n",
      "3                 2     walterbell    9/30/2015 4:12  \n",
      "4                22         Deinos   10/31/2015 9:48  \n",
      "...             ...            ...               ...  \n",
      "20094             6  AdmiralAsshat    8/29/2016 2:22  \n",
      "20095             1       zreitano   10/6/2015 14:57  \n",
      "20096           132    vezzy-fnord     1/2/2016 0:49  \n",
      "20097           222          brw12  12/15/2015 19:32  \n",
      "20098            58      pmoriarty    5/12/2016 1:43  \n",
      "\n",
      "[20099 rows x 7 columns]\n"
     ]
    }
   ],
   "source": [
    "print(df)"
   ]
  },
  {
   "cell_type": "markdown",
   "id": "0c592b5f-35f6-4777-8913-e389287a22f7",
   "metadata": {},
   "source": [
    "# Get the first five rows"
   ]
  },
  {
   "cell_type": "code",
   "execution_count": 174,
   "id": "f8816db7-5bf6-4d66-825b-ae9c9be13497",
   "metadata": {},
   "outputs": [
    {
     "name": "stdout",
     "output_type": "stream",
     "text": [
      "         id                                              title  \\\n",
      "0  12224879                          Interactive Dynamic Video   \n",
      "1  11964716  Florida DJs May Face Felony for April Fools' W...   \n",
      "2  11919867       Technology ventures: From Idea to Enterprise   \n",
      "3  10301696  Note by Note: The Making of Steinway L1037 (2007)   \n",
      "4  10482257  Title II kills investment? Comcast and other I...   \n",
      "\n",
      "                                                 url  num_points  \\\n",
      "0            http://www.interactivedynamicvideo.com/         386   \n",
      "1  http://www.thewire.com/entertainment/2013/04/f...           2   \n",
      "2  https://www.amazon.com/Technology-Ventures-Ent...           3   \n",
      "3  http://www.nytimes.com/2007/11/07/movies/07ste...           8   \n",
      "4  http://arstechnica.com/business/2015/10/comcas...          53   \n",
      "\n",
      "   num_comments      author       created_at  \n",
      "0            52    ne0phyte   8/4/2016 11:52  \n",
      "1             1    vezycash  6/23/2016 22:20  \n",
      "2             1     hswarna   6/17/2016 0:01  \n",
      "3             2  walterbell   9/30/2015 4:12  \n",
      "4            22      Deinos  10/31/2015 9:48  \n"
     ]
    }
   ],
   "source": [
    "print(df.head())"
   ]
  },
  {
   "cell_type": "markdown",
   "id": "42fc95c5-017a-49ec-afd7-f997085beff9",
   "metadata": {},
   "source": [
    "# Get the last five rows"
   ]
  },
  {
   "cell_type": "code",
   "execution_count": 176,
   "id": "a96a1ccc-85ea-41d3-8572-266955d7ea6b",
   "metadata": {},
   "outputs": [
    {
     "name": "stdout",
     "output_type": "stream",
     "text": [
      "             id                                              title  \\\n",
      "20094  12379592  How Purism Avoids Intels Active Management Tec...   \n",
      "20095  10339284          YC Application Translated and Broken Down   \n",
      "20096  10824382  Microkernels are slow and Elvis didn't do no d...   \n",
      "20097  10739875                      How Product Hunt really works   \n",
      "20098  11680777  RoboBrowser: Your friendly neighborhood web sc...   \n",
      "\n",
      "                                                     url  num_points  \\\n",
      "20094  https://puri.sm/philosophy/how-purism-avoids-i...          10   \n",
      "20095  https://medium.com/@zreitano/the-yc-applicatio...           4   \n",
      "20096  http://blog.darknedgy.net/technology/2016/01/0...         169   \n",
      "20097  https://medium.com/@benjiwheeler/how-product-h...         695   \n",
      "20098              https://github.com/jmcarp/robobrowser         182   \n",
      "\n",
      "       num_comments         author        created_at  \n",
      "20094             6  AdmiralAsshat    8/29/2016 2:22  \n",
      "20095             1       zreitano   10/6/2015 14:57  \n",
      "20096           132    vezzy-fnord     1/2/2016 0:49  \n",
      "20097           222          brw12  12/15/2015 19:32  \n",
      "20098            58      pmoriarty    5/12/2016 1:43  \n"
     ]
    }
   ],
   "source": [
    "print(df.tail())"
   ]
  },
  {
   "cell_type": "markdown",
   "id": "fc59d822-7d64-45b0-9c59-2c2e50cafc07",
   "metadata": {},
   "source": [
    "# Get the title column as pandas series"
   ]
  },
  {
   "cell_type": "code",
   "execution_count": 183,
   "id": "d7cfb10d-8f8d-4f36-b358-eacff7506362",
   "metadata": {},
   "outputs": [],
   "source": [
    "title_series = df['title']"
   ]
  },
  {
   "cell_type": "code",
   "execution_count": 185,
   "id": "ce439d45-9e77-4155-bbc2-5b9bd07181e2",
   "metadata": {},
   "outputs": [
    {
     "data": {
      "text/plain": [
       "0                                Interactive Dynamic Video\n",
       "1        Florida DJs May Face Felony for April Fools' W...\n",
       "2             Technology ventures: From Idea to Enterprise\n",
       "3        Note by Note: The Making of Steinway L1037 (2007)\n",
       "4        Title II kills investment? Comcast and other I...\n",
       "                               ...                        \n",
       "20094    How Purism Avoids Intels Active Management Tec...\n",
       "20095            YC Application Translated and Broken Down\n",
       "20096    Microkernels are slow and Elvis didn't do no d...\n",
       "20097                        How Product Hunt really works\n",
       "20098    RoboBrowser: Your friendly neighborhood web sc...\n",
       "Name: title, Length: 20099, dtype: object"
      ]
     },
     "execution_count": 185,
     "metadata": {},
     "output_type": "execute_result"
    }
   ],
   "source": [
    "title_series"
   ]
  },
  {
   "cell_type": "markdown",
   "id": "1652cf3f-dd6a-49ea-afd4-ad3543b6ff9c",
   "metadata": {},
   "source": [
    "# Count the number of rows and columns"
   ]
  },
  {
   "cell_type": "code",
   "execution_count": 216,
   "id": "89640d77-ab25-4857-a402-eacf2f581a92",
   "metadata": {},
   "outputs": [],
   "source": [
    "num_rows, num_columns = df.shape"
   ]
  },
  {
   "cell_type": "code",
   "execution_count": 218,
   "id": "3ee64062-a65f-47c2-a2b4-0736753019e1",
   "metadata": {},
   "outputs": [
    {
     "name": "stdout",
     "output_type": "stream",
     "text": [
      "Rows: 20099, Columns: 7\n"
     ]
    }
   ],
   "source": [
    "print(f\"Rows: {num_rows}, Columns: {num_columns}\")"
   ]
  },
  {
   "cell_type": "markdown",
   "id": "e7002407-2773-4866-97a4-fecebdf64c71",
   "metadata": {},
   "source": [
    "# Filter the titles which contain python"
   ]
  },
  {
   "cell_type": "code",
   "execution_count": 189,
   "id": "e9500a41-22b1-4b24-8c03-6eeddb88f31a",
   "metadata": {},
   "outputs": [],
   "source": [
    "python_titles = df[df['title'].str.contains('Python', case=False, na=False)]"
   ]
  },
  {
   "cell_type": "code",
   "execution_count": 193,
   "id": "9c22a524-de06-4302-a251-609bf8e52586",
   "metadata": {},
   "outputs": [
    {
     "name": "stdout",
     "output_type": "stream",
     "text": [
      "             id                                              title  \\\n",
      "102    10974870                From Python to Lua: Why We Switched   \n",
      "103    11244541          Ubuntu 16.04 LTS to Ship Without Python 2   \n",
      "144    10963528  Create a GUI Application Using Qt and Python i...   \n",
      "196    10716331  How I Solved GCHQ's Xmas Card with Python and ...   \n",
      "436    11895088  Unikernel Power Comes to Java, Node.js, Go, an...   \n",
      "...         ...                                                ...   \n",
      "19597  12061177  David Beazley  Python Concurrency from the Gro...   \n",
      "19852  10988468    Ask HN: How to automate Python apps deployment?   \n",
      "19862  11738470                          Moving Away from Python 2   \n",
      "19980  12524656                      Python vs. Julia Observations   \n",
      "19998  11735438  Show HN: Decorating: Animated pulsed for your ...   \n",
      "\n",
      "                                                     url  num_points  \\\n",
      "102    https://www.distelli.com/blog/using-lua-for-ou...         243   \n",
      "103    http://news.softpedia.com/news/ubuntu-16-04-lt...           2   \n",
      "144                        http://digitalpeer.com/s/c63e          21   \n",
      "196    http://matthewearl.github.io/2015/12/10/gchq-x...           6   \n",
      "436    http://www.infoworld.com/article/3082051/open-...           3   \n",
      "...                                                  ...         ...   \n",
      "19597        https://www.youtube.com/watch?v=MCs5OvhV9S4           2   \n",
      "19852                                                NaN           4   \n",
      "19862  https://asmeurer.github.io/blog/posts/moving-a...         227   \n",
      "19980  https://medium.com/@Jernfrost/python-vs-julia-...           2   \n",
      "19998             https://github.com/ryukinix/decorating           3   \n",
      "\n",
      "       num_comments        author        created_at  \n",
      "102             188      chase202   1/26/2016 18:17  \n",
      "103               1       _snydly    3/8/2016 10:39  \n",
      "144               1        zoodle   1/24/2016 19:01  \n",
      "196               1          kipi  12/11/2015 10:38  \n",
      "436               1  syslandscape   6/13/2016 16:23  \n",
      "...             ...           ...               ...  \n",
      "19597             1      bakery2k    7/9/2016 13:05  \n",
      "19852            18       aalhour   1/28/2016 14:55  \n",
      "19862           275     ngoldbaum   5/20/2016 15:14  \n",
      "19980             1   blacksmythe    9/18/2016 9:54  \n",
      "19998             1         lerax    5/20/2016 3:48  \n",
      "\n",
      "[160 rows x 7 columns]\n"
     ]
    }
   ],
   "source": [
    "print(python_titles)"
   ]
  },
  {
   "cell_type": "markdown",
   "id": "b1c2e1a5-bdf7-42a1-b917-19f055153f82",
   "metadata": {},
   "source": [
    "# Filter the titles which contain JavaScript"
   ]
  },
  {
   "cell_type": "code",
   "execution_count": 197,
   "id": "6fc6fa2c-e7dc-4fe4-b99c-bdd70649796f",
   "metadata": {},
   "outputs": [],
   "source": [
    "javascript_titles = df[df['title'].str.contains('JavaScript', case=False, na=False)]"
   ]
  },
  {
   "cell_type": "code",
   "execution_count": 199,
   "id": "677b15b6-ea55-4d11-85d4-ba31ba893333",
   "metadata": {},
   "outputs": [
    {
     "name": "stdout",
     "output_type": "stream",
     "text": [
      "             id                                              title  \\\n",
      "267    12352636   Show HN: Hire JavaScript - Top JavaScript Talent   \n",
      "580    10871330  Python integration for the Duktape Javascript ...   \n",
      "811    10741251  Ask HN: Are there any projects or compilers wh...   \n",
      "1046   11343334  If you write JavaScript tools or libraries, bu...   \n",
      "1093   10422726  Rollup.js: A next-generation JavaScript module...   \n",
      "...         ...                                                ...   \n",
      "19349  11448301    Fotorama, a responsive JavaScript photo gallery   \n",
      "19548  12105148                 Another Kind of JavaScript Fatigue   \n",
      "19610  12203508  Lonely programmer detective uncovers the Mozil...   \n",
      "19885  12552131  Ask HN: Best Practices for CSS in a Modern Jav...   \n",
      "20069  12149183  Show HN: Parse recipe ingredients using JavaSc...   \n",
      "\n",
      "                                                     url  num_points  \\\n",
      "267                              https://www.hirejs.com/           1   \n",
      "580               https://pypi.python.org/pypi/pyduktape           3   \n",
      "811                                                  NaN           1   \n",
      "1046   https://medium.com/@Rich_Harris/how-to-not-bre...          48   \n",
      "1093                                 http://rollupjs.org          57   \n",
      "...                                                  ...         ...   \n",
      "19349                                http://fotorama.io/           1   \n",
      "19548  http://chrismm.com/blog/the-other-kind-of-java...           9   \n",
      "19610         http://stackoverflow.com/a/38677222/984780          29   \n",
      "19885                                                NaN           6   \n",
      "20069       https://github.com/herkyl/ingredients-parser           6   \n",
      "\n",
      "       num_comments          author        created_at  \n",
      "267               1        eibrahim   8/24/2016 15:16  \n",
      "580               1         stefano    1/9/2016 14:26  \n",
      "811               2         ggonweb  12/15/2015 23:26  \n",
      "1046             19     callumlocke   3/23/2016 10:54  \n",
      "1093             17         dmmalam   10/21/2015 0:02  \n",
      "...             ...             ...               ...  \n",
      "19349             1         alexkon    4/7/2016 15:59  \n",
      "19548             2    JacksCracked    7/16/2016 3:44  \n",
      "19610             8    luisperezphd    8/1/2016 16:07  \n",
      "19885             6        xwvvvvwx   9/21/2016 20:53  \n",
      "20069             2  zongitsrinzler   7/23/2016 11:35  \n",
      "\n",
      "[170 rows x 7 columns]\n"
     ]
    }
   ],
   "source": [
    "print(javascript_titles)"
   ]
  },
  {
   "cell_type": "markdown",
   "id": "f14ce5da-ddc9-4148-8993-97fb3c8650e2",
   "metadata": {},
   "source": [
    "# Explore the data and make sense of it"
   ]
  },
  {
   "cell_type": "code",
   "execution_count": 203,
   "id": "985e012c-769b-45df-97ea-dc86fe74dcb3",
   "metadata": {},
   "outputs": [
    {
     "name": "stdout",
     "output_type": "stream",
     "text": [
      "<class 'pandas.core.frame.DataFrame'>\n",
      "RangeIndex: 20099 entries, 0 to 20098\n",
      "Data columns (total 7 columns):\n",
      " #   Column        Non-Null Count  Dtype \n",
      "---  ------        --------------  ----- \n",
      " 0   id            20099 non-null  int64 \n",
      " 1   title         20099 non-null  object\n",
      " 2   url           17659 non-null  object\n",
      " 3   num_points    20099 non-null  int64 \n",
      " 4   num_comments  20099 non-null  int64 \n",
      " 5   author        20099 non-null  object\n",
      " 6   created_at    20099 non-null  object\n",
      "dtypes: int64(3), object(4)\n",
      "memory usage: 1.1+ MB\n",
      "None\n"
     ]
    }
   ],
   "source": [
    "# To get an overview of the DataFrame:\n",
    "print(df.info())"
   ]
  },
  {
   "cell_type": "code",
   "execution_count": 205,
   "id": "78373205-6484-4215-8daf-65dbe3db0b0d",
   "metadata": {},
   "outputs": [
    {
     "name": "stdout",
     "output_type": "stream",
     "text": [
      "                 id    num_points  num_comments\n",
      "count  2.009900e+04  20099.000000  20099.000000\n",
      "mean   1.131755e+07     50.296632     24.803025\n",
      "std    6.964531e+05    107.110322     56.108639\n",
      "min    1.017691e+07      1.000000      1.000000\n",
      "25%    1.070172e+07      3.000000      1.000000\n",
      "50%    1.128452e+07      9.000000      3.000000\n",
      "75%    1.192613e+07     54.000000     21.000000\n",
      "max    1.257898e+07   2553.000000   1733.000000\n"
     ]
    }
   ],
   "source": [
    "# To generate summary statistics for numeric columns:\n",
    "print(df.describe())"
   ]
  },
  {
   "cell_type": "code",
   "execution_count": 207,
   "id": "eddf830d-1978-46dd-aedb-21d7131837c4",
   "metadata": {},
   "outputs": [
    {
     "name": "stdout",
     "output_type": "stream",
     "text": [
      "id                 0\n",
      "title              0\n",
      "url             2440\n",
      "num_points         0\n",
      "num_comments       0\n",
      "author             0\n",
      "created_at         0\n",
      "dtype: int64\n"
     ]
    }
   ],
   "source": [
    "# To check for missing values in each column:\n",
    "print(df.isnull().sum())"
   ]
  },
  {
   "cell_type": "code",
   "execution_count": 209,
   "id": "e2c096d5-4dcd-47e6-82ca-333b243fe46c",
   "metadata": {},
   "outputs": [
    {
     "name": "stdout",
     "output_type": "stream",
     "text": [
      "title\n",
      "Were in a brave, new post open source world                                        3\n",
      "Calculus Is So Last Century                                                        3\n",
      "He Was a Hacker for the NSA and He Was Willing to Talk. I Was Willing to Listen    3\n",
      "Solving All the Wrong Problems                                                     3\n",
      "400Gbps: Winter of Whopping Weekend DDoS Attacks                                   3\n",
      "                                                                                  ..\n",
      "Ask HN: Limiting CPU, memory, and I/O usage on a program for testing               1\n",
      "How to write a great error message                                                 1\n",
      "Ask HN: Which framework for a CRUD app in 2016?                                    1\n",
      "Entrepreneurship  A second attempt | Feedback welcomed                             1\n",
      "PSA: Intel WICS broken for years with official press release, do not buy           1\n",
      "Name: count, Length: 19957, dtype: int64\n"
     ]
    }
   ],
   "source": [
    "# To see how often each unique value occurs in a column, such as title:\n",
    "print(df['title'].value_counts())"
   ]
  },
  {
   "cell_type": "code",
   "execution_count": 211,
   "id": "87fa4e94-bb1e-4e1e-92d2-272f22e6c037",
   "metadata": {},
   "outputs": [
    {
     "data": {
      "image/png": "[encoded data removed]",
      "text/plain": [
       "<Figure size 640x480 with 1 Axes>"
      ]
     },
     "metadata": {},
     "output_type": "display_data"
    }
   ],
   "source": [
    "# Use simple plots to understand trends or distributions (requires Matplotlib or Seaborn):\n",
    "import matplotlib.pyplot as plt\n",
    "\n",
    "# Plot the frequency of titles\n",
    "df['title'].value_counts().head(10).plot(kind='bar', title='Top 10 Most Frequent Titles')\n",
    "plt.show()"
   ]
  },
  {
   "cell_type": "code",
   "execution_count": null,
   "id": "9949cf21-60ee-4dd3-a831-7c7591a7d138",
   "metadata": {},
   "outputs": [],
   "source": []
  }
 ],
 "metadata": {
  "kernelspec": {
   "display_name": "Python [conda env:venv]",
   "language": "python",
   "name": "conda-env-venv-py"
  },
  "language_info": {
   "codemirror_mode": {
    "name": "ipython",
    "version": 3
   },
   "file_extension": ".py",
   "mimetype": "text/x-python",
   "name": "python",
   "nbconvert_exporter": "python",
   "pygments_lexer": "ipython3",
   "version": "3.12.0"
  }
 },
 "nbformat": 4,
 "nbformat_minor": 5
}
